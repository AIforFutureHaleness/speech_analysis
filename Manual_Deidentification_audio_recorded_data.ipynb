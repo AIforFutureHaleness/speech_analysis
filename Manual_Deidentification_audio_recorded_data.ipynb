{
 "cells": [
  {
   "cell_type": "markdown",
   "metadata": {},
   "source": [
    "## Manual deidentificaiton"
   ]
  },
  {
   "cell_type": "code",
   "execution_count": null,
   "metadata": {},
   "outputs": [],
   "source": [
    "#https://medium.com/nedap/de-identification-of-ehr-using-nlp-a270d40fc442"
   ]
  },
  {
   "cell_type": "code",
   "execution_count": null,
   "metadata": {},
   "outputs": [],
   "source": [
    "# import audio player here, so that we  "
   ]
  },
  {
   "cell_type": "code",
   "execution_count": 10,
   "metadata": {},
   "outputs": [],
   "source": [
    "path = \"/Users/Maryam/Library/Mobile Documents/com~apple~CloudDocs/**********codes/amazon_AWS_transcribe/amazon_pilot_test_transcribed/dual-channel-recording/\"\n",
    "\n"
   ]
  },
  {
   "cell_type": "code",
   "execution_count": 21,
   "metadata": {},
   "outputs": [],
   "source": [
    "import scipy.io.wavfile\n",
    "import numpy\n",
    "\n",
    "\n",
    "# file_name = f'{file[-1]}'\n",
    "# s3.download_file(Bucket=bucket, Key=f'{input_folder}/{file[-1]}', Filename=file_name)\n",
    "\n",
    "rate, data = scipy.io.wavfile.read(path+\"dual_c_r.wav\")\n",
    "edit_point = numpy.array([[860.1, 862.87],[880.86, 883.45]])  # \"Most important, decrease the cigarette.\", \"I'll speak to you on Wednesday.\"\n",
    "edit_point = numpy.round(edit_point*rate)\n",
    "\n",
    "new_wav_file_list = []\n",
    "for elem in edit_point:\n",
    "    start = int(elem[0])\n",
    "    end = int(elem[1])\n",
    "    new_wav_file_list.extend(data[start:end])\n",
    "    \n",
    "new_wav_file = numpy.array(new_wav_file_list)\n",
    "scipy.io.wavfile.write(path+'clipped.wav', rate, new_wav_file)"
   ]
  },
  {
   "cell_type": "code",
   "execution_count": 11,
   "metadata": {},
   "outputs": [],
   "source": [
    "import scipy.io.wavfile\n",
    "import numpy \n",
    "# rate, data = scipy.io.wavfile.read(path + \"dual_c_r.wav\")\n",
    "# end_pint = "
   ]
  },
  {
   "cell_type": "markdown",
   "metadata": {},
   "source": [
    "## does not display"
   ]
  },
  {
   "cell_type": "code",
   "execution_count": 6,
   "metadata": {},
   "outputs": [],
   "source": [
    "from pydub import AudioSegment\n",
    "from pydub.playback import play\n",
    "\n",
    "loop = AudioSegment.from_wav(path + \"dual_c_r.wav\")\n",
    "play (loop)"
   ]
  },
  {
   "cell_type": "code",
   "execution_count": 12,
   "metadata": {},
   "outputs": [],
   "source": [
    "times = []\n",
    "times.append([4.57, 5.62])\n",
    "times.append([6.55, 8.06])\n",
    "times.append([10.74, 12.75])\n",
    "times.append([15.02, 15.46])\n",
    "times.append([42.6, 43.46])\n",
    "times.append([45.99, 50.46])\n",
    "times.append([61.85,62.23])\n",
    "times.append([63.98,64.62])\n",
    "times.append([66.28, 67.42])\n",
    "times.append([70.11,70.9])\n",
    "times.append([86.61, 87.11])\n",
    "times.append([173.35, 173.94])\n",
    "times.append([174.56, 174.91])\n",
    "times.append([175.43, 176.04])\n",
    "times.append([178.11, 178.68])\n",
    "times.append([233.36, 234.7])\n",
    "times.append([260.36, 260.95])\n",
    "times.append([264.9, 265.29])\n",
    "times.append([270.11, 273.24])\n",
    "times.append([276.84, 277.28])\n",
    "times.append([280.84, 283.03])\n",
    "times.append([290.86, 291.75])\n",
    "times.append([303.71, 304.51])\n",
    "times.append([310.94, 312.46])\n",
    "times.append([331.92, 334.55])\n",
    "times.append([356.6, 357.75])\n",
    "times.append([440.86, 441.56])\n",
    "times.append([444.02, 446.29])\n",
    "times.append([468.3,469.38])\n",
    "times.append([476.31, 477.45])\n",
    "times.append([478.12, 478.96])\n",
    "times.append([498.98,500.25])\n",
    "times.append([498.98, 503.53])\n",
    "times.append([508.91, 511.09])\n",
    "times.append ([513.7, 514.12])\n",
    "times.append([514.12, 514.85])\n",
    "times.append([518.98, 519.83])\n",
    "times.append([519.28, 519.83])\n",
    "times.append([684.45, 684.84])\n",
    "times.append([762.63, 763.66])\n",
    "times.append([935.52, 936.7])\n",
    "times.append([937.29, 937.63])\n",
    "times.append([938.28, 938.57])\n",
    "times.append([954.34, 954.86])\n",
    "times.append([963.83, 964.26])\n",
    "times.append([967.51, 968.55])\n",
    "times.append([969.64, 970.38])"
   ]
  },
  {
   "cell_type": "code",
   "execution_count": 16,
   "metadata": {},
   "outputs": [],
   "source": [
    "import scipy.io.wavfile\n",
    "import numpy as np\n",
    "path = \"/Users/Maryam/Library/Mobile Documents/com~apple~CloudDocs/**********codes/amazon_AWS_transcribe/amazon_pilot_test_transcribed/dual-channel-recording/\"\n",
    "# path = \"/Users/Maryam/Library/Mobile Documents/com~apple~CloudDocs/**********codes/amazon_AWS_transcribe/amazon_pilot_test_transcribed/sony_TL_21821/SONY_TL_21821.wav\"\n",
    "\n",
    "\n",
    "def cut_audio(y, fs, MIN, MAX):\n",
    "    start = int(MIN*fs) + 1\n",
    "    end = int(MAX*fs)\n",
    "    cut_wav = y[start:end]\n",
    "    return cut_wav\n",
    "\n",
    "fs, y = scipy.io.wavfile.read(path + \"dual_c_r.wav\")\n",
    "\n",
    "MIN, MAX = 0, times[0][0]\n",
    "cut_wav_n = cut_audio(y, fs, MIN, MAX)\n",
    "\n",
    "for i in range(len(times)):\n",
    "    if i != len(times)-1:\n",
    "        MIN, MAX = times[i][1], times[i+1][0]\n",
    "        cut_wav_n = np.hstack((cut_wav_n, cut_audio(y, fs, MIN, MAX)))\n",
    "    else:\n",
    "        MIN, MAX = times[i][1], 1133.76\n",
    "        cut_wav_n = np.hstack((cut_wav_n, cut_audio(y, fs, MIN, MAX)))\n",
    "    \n",
    "scipy.io.wavfile.write(path + \"dual_channel_deidentified.wav\", fs, cut_wav_n)\n"
   ]
  },
  {
   "cell_type": "code",
   "execution_count": 17,
   "metadata": {},
   "outputs": [
    {
     "name": "stdout",
     "output_type": "stream",
     "text": [
      "1138.497596371882\n"
     ]
    }
   ],
   "source": [
    "#Replace beep\n",
    "fs1, y = scipy.io.wavfile.read(path + \"dual_c_r.wav\")\n",
    "fs2, beep = scipy.io.wavfile.read(path + \"tone.wav\")\n",
    "\n",
    "print (y.shape[0]/fs1)\n",
    "\n",
    "MIN, MAX = 0, times[0][0]\n",
    "start = int(MIN*fs1)\n",
    "end = int(MAX*fs1) + 1\n",
    "combine = y[start:end]\n",
    "for i in range(len(times)):\n",
    "    if i != len(times)-1:\n",
    "        MIN_b, MAX_b = times[i][0], times[i][1]\n",
    "        MIN, MAX = times[i][1], times[i+1][0]\n",
    "        start = int(MIN*fs1)\n",
    "        end = int(MAX*fs1) + 1\n",
    "        combine = np.hstack((combine, beep[0:int((MAX_b-MIN_b)*fs2)], y[start:end]))\n",
    "    else:\n",
    "        MIN_b, MAX_b = times[i][0], times[i][1]\n",
    "        MIN, MAX = times[i][1], 1133.76\n",
    "        start = int(MIN*fs1)\n",
    "        end = int(MAX*fs1) + 1\n",
    "        combine = np.hstack((combine, beep[0:int((MAX_b-MIN_b)*fs2)], y[start:end]))\n",
    "    \n",
    "    \n",
    "scipy.io.wavfile.write(path + \"dual_c_r_beep.wav\", fs1, combine)"
   ]
  },
  {
   "cell_type": "code",
   "execution_count": null,
   "metadata": {},
   "outputs": [],
   "source": [
    "## solution one- cut these section and joint them again"
   ]
  },
  {
   "cell_type": "code",
   "execution_count": null,
   "metadata": {},
   "outputs": [],
   "source": [
    "## solution two- for this time replace them with beeping sound"
   ]
  },
  {
   "cell_type": "markdown",
   "metadata": {},
   "source": [
    "## Automatic deidentification"
   ]
  },
  {
   "cell_type": "code",
   "execution_count": null,
   "metadata": {},
   "outputs": [],
   "source": [
    "#https://medium.com/nedap/de-identification-of-ehr-using-nlp-a270d40fc442"
   ]
  }
 ],
 "metadata": {
  "kernelspec": {
   "display_name": "Python 3",
   "language": "python",
   "name": "python3"
  },
  "language_info": {
   "codemirror_mode": {
    "name": "ipython",
    "version": 3
   },
   "file_extension": ".py",
   "mimetype": "text/x-python",
   "name": "python",
   "nbconvert_exporter": "python",
   "pygments_lexer": "ipython3",
   "version": "3.8.5"
  }
 },
 "nbformat": 4,
 "nbformat_minor": 4
}
