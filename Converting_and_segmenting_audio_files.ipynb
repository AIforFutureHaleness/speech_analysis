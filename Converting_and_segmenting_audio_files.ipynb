{
 "cells": [
  {
   "cell_type": "code",
   "execution_count": null,
   "metadata": {},
   "outputs": [],
   "source": [
    "## Clip using scipy\n",
    "import scipy.io.wavfile\n",
    "import numpy\n"
   ]
  },
  {
   "cell_type": "code",
   "execution_count": null,
   "metadata": {},
   "outputs": [],
   "source": [
    "from pydub import AudioSegment\n",
    "import numpy as np\n",
    "m4afile = AudioSegment.from_file(path+\"dual_channel_recording.m4a\")\n",
    "np.array(m4afile.get_array_of_samples()).shape\n",
    "# m4afile.export(path+\"dual_c_r.wav\", format='wav')"
   ]
  },
  {
   "cell_type": "code",
   "execution_count": null,
   "metadata": {},
   "outputs": [],
   "source": [
    "# file_name = f'{file[-1]}'\n",
    "# s3.download_file(Bucket=bucket, Key=f'{input_folder}/{file[-1]}', Filename=file_name)\n",
    "\n",
    "rate, data = scipy.io.wavfile.read(path+\"dual_c_r.wav\")\n",
    "edit_point = numpy.array([[860.1, 862.87],[880.86, 883.45]])  # \"Most important, decrease the cigarette.\", \"I'll speak to you on Wednesday.\"\n",
    "edit_point = numpy.round(edit_point*rate)\n",
    "\n",
    "new_wav_file_list = []\n",
    "for elem in edit_point:\n",
    "    start = int(elem[0])\n",
    "    end = int(elem[1])\n",
    "    new_wav_file_list.extend(data[start:end])\n",
    "    \n",
    "new_wav_file = numpy.array(new_wav_file_list)\n",
    "scipy.io.wavfile.write(path+'clipped.wav', rate, new_wav_file)"
   ]
  }
 ],
 "metadata": {
  "kernelspec": {
   "display_name": "Python 3",
   "language": "python",
   "name": "python3"
  },
  "language_info": {
   "codemirror_mode": {
    "name": "ipython",
    "version": 3
   },
   "file_extension": ".py",
   "mimetype": "text/x-python",
   "name": "python",
   "nbconvert_exporter": "python",
   "pygments_lexer": "ipython3",
   "version": "3.8.5"
  }
 },
 "nbformat": 4,
 "nbformat_minor": 4
}
